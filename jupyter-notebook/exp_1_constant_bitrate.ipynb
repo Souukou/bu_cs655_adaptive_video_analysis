{
  "nbformat": 4,
  "nbformat_minor": 0,
  "metadata": {
    "colab": {
      "provenance": []
    },
    "kernelspec": {
      "name": "python3",
      "display_name": "Python 3"
    },
    "language_info": {
      "name": "python"
    }
  },
  "cells": [
    {
      "cell_type": "markdown",
      "source": [
        "## CS655 Computer Networks\n",
        "\n",
        "### Analyzing Transmission Policies for Adaptive Video\n",
        "\n",
        "#### Experiment 1: Constant Bitrate"
      ],
      "metadata": {
        "id": "msmut3QA0maP"
      }
    },
    {
      "cell_type": "code",
      "source": [
        "from google.colab import files\n",
        "\n",
        "uploaded = files.upload()\n",
        "\n",
        "for fn in uploaded.keys():\n",
        "  print('User uploaded file \"{name}\" with length {length} bytes'.format(\n",
        "      name=fn, length=len(uploaded[fn])))"
      ],
      "metadata": {
        "id": "YfOSE99AWNiT",
        "outputId": "f0515236-d913-4d9f-cca9-edddd3fc6782",
        "colab": {
          "base_uri": "https://localhost:8080/",
          "height": 91
        }
      },
      "execution_count": null,
      "outputs": [
        {
          "output_type": "display_data",
          "data": {
            "text/plain": [
              "<IPython.core.display.HTML object>"
            ],
            "text/html": [
              "\n",
              "     <input type=\"file\" id=\"files-81997f85-1346-4abc-87ed-2cd420d2a4fa\" name=\"files[]\" multiple disabled\n",
              "        style=\"border:none\" />\n",
              "     <output id=\"result-81997f85-1346-4abc-87ed-2cd420d2a4fa\">\n",
              "      Upload widget is only available when the cell has been executed in the\n",
              "      current browser session. Please rerun this cell to enable.\n",
              "      </output>\n",
              "      <script>// Copyright 2017 Google LLC\n",
              "//\n",
              "// Licensed under the Apache License, Version 2.0 (the \"License\");\n",
              "// you may not use this file except in compliance with the License.\n",
              "// You may obtain a copy of the License at\n",
              "//\n",
              "//      http://www.apache.org/licenses/LICENSE-2.0\n",
              "//\n",
              "// Unless required by applicable law or agreed to in writing, software\n",
              "// distributed under the License is distributed on an \"AS IS\" BASIS,\n",
              "// WITHOUT WARRANTIES OR CONDITIONS OF ANY KIND, either express or implied.\n",
              "// See the License for the specific language governing permissions and\n",
              "// limitations under the License.\n",
              "\n",
              "/**\n",
              " * @fileoverview Helpers for google.colab Python module.\n",
              " */\n",
              "(function(scope) {\n",
              "function span(text, styleAttributes = {}) {\n",
              "  const element = document.createElement('span');\n",
              "  element.textContent = text;\n",
              "  for (const key of Object.keys(styleAttributes)) {\n",
              "    element.style[key] = styleAttributes[key];\n",
              "  }\n",
              "  return element;\n",
              "}\n",
              "\n",
              "// Max number of bytes which will be uploaded at a time.\n",
              "const MAX_PAYLOAD_SIZE = 100 * 1024;\n",
              "\n",
              "function _uploadFiles(inputId, outputId) {\n",
              "  const steps = uploadFilesStep(inputId, outputId);\n",
              "  const outputElement = document.getElementById(outputId);\n",
              "  // Cache steps on the outputElement to make it available for the next call\n",
              "  // to uploadFilesContinue from Python.\n",
              "  outputElement.steps = steps;\n",
              "\n",
              "  return _uploadFilesContinue(outputId);\n",
              "}\n",
              "\n",
              "// This is roughly an async generator (not supported in the browser yet),\n",
              "// where there are multiple asynchronous steps and the Python side is going\n",
              "// to poll for completion of each step.\n",
              "// This uses a Promise to block the python side on completion of each step,\n",
              "// then passes the result of the previous step as the input to the next step.\n",
              "function _uploadFilesContinue(outputId) {\n",
              "  const outputElement = document.getElementById(outputId);\n",
              "  const steps = outputElement.steps;\n",
              "\n",
              "  const next = steps.next(outputElement.lastPromiseValue);\n",
              "  return Promise.resolve(next.value.promise).then((value) => {\n",
              "    // Cache the last promise value to make it available to the next\n",
              "    // step of the generator.\n",
              "    outputElement.lastPromiseValue = value;\n",
              "    return next.value.response;\n",
              "  });\n",
              "}\n",
              "\n",
              "/**\n",
              " * Generator function which is called between each async step of the upload\n",
              " * process.\n",
              " * @param {string} inputId Element ID of the input file picker element.\n",
              " * @param {string} outputId Element ID of the output display.\n",
              " * @return {!Iterable<!Object>} Iterable of next steps.\n",
              " */\n",
              "function* uploadFilesStep(inputId, outputId) {\n",
              "  const inputElement = document.getElementById(inputId);\n",
              "  inputElement.disabled = false;\n",
              "\n",
              "  const outputElement = document.getElementById(outputId);\n",
              "  outputElement.innerHTML = '';\n",
              "\n",
              "  const pickedPromise = new Promise((resolve) => {\n",
              "    inputElement.addEventListener('change', (e) => {\n",
              "      resolve(e.target.files);\n",
              "    });\n",
              "  });\n",
              "\n",
              "  const cancel = document.createElement('button');\n",
              "  inputElement.parentElement.appendChild(cancel);\n",
              "  cancel.textContent = 'Cancel upload';\n",
              "  const cancelPromise = new Promise((resolve) => {\n",
              "    cancel.onclick = () => {\n",
              "      resolve(null);\n",
              "    };\n",
              "  });\n",
              "\n",
              "  // Wait for the user to pick the files.\n",
              "  const files = yield {\n",
              "    promise: Promise.race([pickedPromise, cancelPromise]),\n",
              "    response: {\n",
              "      action: 'starting',\n",
              "    }\n",
              "  };\n",
              "\n",
              "  cancel.remove();\n",
              "\n",
              "  // Disable the input element since further picks are not allowed.\n",
              "  inputElement.disabled = true;\n",
              "\n",
              "  if (!files) {\n",
              "    return {\n",
              "      response: {\n",
              "        action: 'complete',\n",
              "      }\n",
              "    };\n",
              "  }\n",
              "\n",
              "  for (const file of files) {\n",
              "    const li = document.createElement('li');\n",
              "    li.append(span(file.name, {fontWeight: 'bold'}));\n",
              "    li.append(span(\n",
              "        `(${file.type || 'n/a'}) - ${file.size} bytes, ` +\n",
              "        `last modified: ${\n",
              "            file.lastModifiedDate ? file.lastModifiedDate.toLocaleDateString() :\n",
              "                                    'n/a'} - `));\n",
              "    const percent = span('0% done');\n",
              "    li.appendChild(percent);\n",
              "\n",
              "    outputElement.appendChild(li);\n",
              "\n",
              "    const fileDataPromise = new Promise((resolve) => {\n",
              "      const reader = new FileReader();\n",
              "      reader.onload = (e) => {\n",
              "        resolve(e.target.result);\n",
              "      };\n",
              "      reader.readAsArrayBuffer(file);\n",
              "    });\n",
              "    // Wait for the data to be ready.\n",
              "    let fileData = yield {\n",
              "      promise: fileDataPromise,\n",
              "      response: {\n",
              "        action: 'continue',\n",
              "      }\n",
              "    };\n",
              "\n",
              "    // Use a chunked sending to avoid message size limits. See b/62115660.\n",
              "    let position = 0;\n",
              "    do {\n",
              "      const length = Math.min(fileData.byteLength - position, MAX_PAYLOAD_SIZE);\n",
              "      const chunk = new Uint8Array(fileData, position, length);\n",
              "      position += length;\n",
              "\n",
              "      const base64 = btoa(String.fromCharCode.apply(null, chunk));\n",
              "      yield {\n",
              "        response: {\n",
              "          action: 'append',\n",
              "          file: file.name,\n",
              "          data: base64,\n",
              "        },\n",
              "      };\n",
              "\n",
              "      let percentDone = fileData.byteLength === 0 ?\n",
              "          100 :\n",
              "          Math.round((position / fileData.byteLength) * 100);\n",
              "      percent.textContent = `${percentDone}% done`;\n",
              "\n",
              "    } while (position < fileData.byteLength);\n",
              "  }\n",
              "\n",
              "  // All done.\n",
              "  yield {\n",
              "    response: {\n",
              "      action: 'complete',\n",
              "    }\n",
              "  };\n",
              "}\n",
              "\n",
              "scope.google = scope.google || {};\n",
              "scope.google.colab = scope.google.colab || {};\n",
              "scope.google.colab._files = {\n",
              "  _uploadFiles,\n",
              "  _uploadFilesContinue,\n",
              "};\n",
              "})(self);\n",
              "</script> "
            ]
          },
          "metadata": {}
        },
        {
          "output_type": "stream",
          "name": "stdout",
          "text": [
            "Saving constant_bitrate.zip to constant_bitrate (1).zip\n",
            "User uploaded file \"constant_bitrate.zip\" with length 3724 bytes\n"
          ]
        }
      ]
    },
    {
      "cell_type": "code",
      "source": [
        "!unzip constant_bitrate.zip"
      ],
      "metadata": {
        "colab": {
          "base_uri": "https://localhost:8080/"
        },
        "id": "rSKpsvjFmbTA",
        "outputId": "24dbba31-9000-4ccc-a52e-23e7a92cf5cc"
      },
      "execution_count": null,
      "outputs": [
        {
          "output_type": "stream",
          "name": "stdout",
          "text": [
            "Archive:  constant_bitrate.zip\n",
            "  inflating: basic.csv               \n",
            "  inflating: netflix.csv             \n",
            "  inflating: sara.csv                \n"
          ]
        }
      ]
    },
    {
      "cell_type": "code",
      "source": [
        "basic_filename = \"basic.csv\"\n",
        "netflix_filename = \"netflix.csv\"\n",
        "sara_filename = \"sara.csv\""
      ],
      "metadata": {
        "id": "ayW8aoqNWWlW"
      },
      "execution_count": null,
      "outputs": []
    },
    {
      "cell_type": "markdown",
      "source": [
        "The last cell will read in the data and plot the video rate against time (higher rate means higher quality video!)\n",
        "\n",
        "The background of the plot will be shaded according to the video playback status: a light cyan background means the video is playing, while a light pink background means the video is buffering (\"frozen\")."
      ],
      "metadata": {
        "id": "LQCPJt7EWk2H"
      }
    },
    {
      "cell_type": "code",
      "execution_count": null,
      "metadata": {
        "id": "gwHJ5VwyWEq-",
        "outputId": "0ee1d2b0-1836-4e44-f01c-9b333e0ff818",
        "colab": {
          "base_uri": "https://localhost:8080/",
          "height": 295
        }
      },
      "outputs": [
        {
          "output_type": "display_data",
          "data": {
            "text/plain": [
              "<Figure size 432x288 with 1 Axes>"
            ],
            "image/png": "[encoded data removed]"
          },
          "metadata": {
            "needs_background": "light"
          }
        }
      ],
      "source": [
        "import matplotlib.pyplot as plt\n",
        "import pandas as pd\n",
        "\n",
        "\n",
        "c = {'INITIAL_BUFFERING': 'violet', 'PLAY': 'lightcyan', 'BUFFERING': 'lightpink'}\n",
        "\n",
        "basic = pd.read_csv(basic_filename)\n",
        "basic = basic.loc[basic.CurrentPlaybackState.isin(c.keys() )]\n",
        "\n",
        "netflix = pd.read_csv(netflix_filename)\n",
        "netflix = netflix.loc[netflix.CurrentPlaybackState.isin(c.keys() )]\n",
        "\n",
        "sara = pd.read_csv(sara_filename)\n",
        "sara = sara.loc[sara.CurrentPlaybackState.isin(c.keys() )]\n",
        "\n",
        "# states = pd.DataFrame({'startState': basic.CurrentPlaybackState[0:-2].values, 'startTime': basic.EpochTime[0:-2].values,\n",
        "#                         'endState':  basic.CurrentPlaybackState[1:-1].values, 'endTime':   basic.EpochTime[1:-1].values})\n",
        "# for index, s in states.iterrows():\n",
        "#   plt.axvspan(s['startTime'], s['endTime'],  color=c[s['startState']], alpha=1) \n",
        "\n",
        "plt.plot(basic[basic.Action!=\"Writing\"].EpochTime, basic[basic.Action!=\"Writing\"].Bitrate, 'xk:', label=\"Basic\")\n",
        "plt.plot(netflix[netflix.Action!=\"Writing\"].EpochTime, netflix[netflix.Action!=\"Writing\"].Bitrate, '.b-', label=\"Netflix\")\n",
        "plt.plot(sara[sara.Action!=\"Writing\"].EpochTime, sara[sara.Action!=\"Writing\"].Bitrate, '^g--', label=\"SARA\")\n",
        "plt.title(\"Video rate (bps)\");\n",
        "plt.xlabel(\"Time (s)\");\n",
        "plt.legend()\n",
        "plt.show()"
      ]
    },
    {
      "cell_type": "code",
      "source": [
        "def get_statistics(data):\n",
        "  bitrate = data[data.Action!=\"Writing\"].Bitrate.div(1000).mean()\n",
        "  variance =  data[data.Action!=\"Writing\"].Bitrate.div(1000).var()\n",
        "  states = pd.DataFrame({'startState': data.CurrentPlaybackState[0:-2].values, 'startTime': data.EpochTime[0:-2].values,\n",
        "                          'endState':  data.CurrentPlaybackState[1:-1].values, 'endTime':   data.EpochTime[1:-1].values})\n",
        "  initial_beffering = 0\n",
        "  interruption = 0\n",
        "  \n",
        "  for index, s in states.iterrows():\n",
        "    if s['startState'] == \"INITIAL_BUFFERING\":\n",
        "      initial_beffering += s['endTime'] - s['startTime']\n",
        "    elif s['startState'] == \"BUFFERING\":\n",
        "      interruption += s['endTime'] - s['startTime']\n",
        "  return bitrate, variance, initial_beffering, interruption\n"
      ],
      "metadata": {
        "id": "mIQzJLWT0FHl"
      },
      "execution_count": null,
      "outputs": []
    },
    {
      "cell_type": "code",
      "source": [
        "print('bitrate, variance, initial_beffering, interruption')\n",
        "print(get_statistics(basic))\n",
        "print(get_statistics(netflix))\n",
        "print(get_statistics(sara))\n"
      ],
      "metadata": {
        "colab": {
          "base_uri": "https://localhost:8080/"
        },
        "id": "bu3vUQmOytg7",
        "outputId": "013c9bb8-ac01-4de6-ab5b-6dbc3a4f6b4f"
      },
      "execution_count": null,
      "outputs": [
        {
          "output_type": "stream",
          "name": "stdout",
          "text": [
            "bitrate, variance, initial_beffering, interruption\n",
            "(624.6769393939394, 138519.3661861212, 0.00530982017517, 0)\n",
            "(159.50039393939397, 15349.031583621214, 0.00433492660522, 0)\n",
            "(577.5124545454546, 185967.67043225566, 0.00496816635132, 0)\n"
          ]
        }
      ]
    }
  ]
}